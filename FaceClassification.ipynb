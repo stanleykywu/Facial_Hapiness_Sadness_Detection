{
  "nbformat": 4,
  "nbformat_minor": 0,
  "metadata": {
    "colab": {
      "name": "FaceClassification.ipynb",
      "provenance": [],
      "collapsed_sections": [],
      "machine_shape": "hm",
      "include_colab_link": true
    },
    "kernelspec": {
      "name": "python3",
      "display_name": "Python 3"
    }
  },
  "cells": [
    {
      "cell_type": "markdown",
      "metadata": {
        "id": "view-in-github",
        "colab_type": "text"
      },
      "source": [
        "<a href=\"https://colab.research.google.com/github/stanleykywu/Facial_Hapiness_Sadness_Detection/blob/master/FaceClassification.ipynb\" target=\"_parent\"><img src=\"https://colab.research.google.com/assets/colab-badge.svg\" alt=\"Open In Colab\"/></a>"
      ]
    },
    {
      "cell_type": "code",
      "metadata": {
        "id": "C-CuJnKrVvxV",
        "colab_type": "code",
        "colab": {}
      },
      "source": [
        "!pip install tensorflow==2.0.0-alpha0"
      ],
      "execution_count": 0,
      "outputs": []
    },
    {
      "cell_type": "code",
      "metadata": {
        "id": "YfXFMoCMWpVQ",
        "colab_type": "code",
        "colab": {}
      },
      "source": [
        "from google.colab import drive\n",
        "drive.mount(\"/content/drive\")"
      ],
      "execution_count": 0,
      "outputs": []
    },
    {
      "cell_type": "code",
      "metadata": {
        "id": "GZ8Ix1VGb-UN",
        "colab_type": "code",
        "colab": {}
      },
      "source": [
        "import os\n",
        "import cv2\n",
        "\n",
        "train_path = \"/content/drive/My Drive/Colab Notebooks/train/\"\n",
        "test_path = \"/content/drive/My Drive/Colab Notebooks/test/\"\n",
        "\n",
        "train_file_names = os.listdir(train_path)\n",
        "test_file_names = os.listdir(test_path)\n",
        "\n",
        "def load_image(file_path):\n",
        "    return cv2.imread(file_path)\n",
        "\n",
        "def assign_label(file_name):\n",
        "  if \"happy\" in file_name:\n",
        "    return 1\n",
        "  else:\n",
        "    return 0\n",
        "\n",
        "train_images = [load_image(train_path + file) for file in train_file_names]\n",
        "train_labels = [assign_label(file) for file in train_file_names]\n",
        "\n",
        "print(train_file_names)"
      ],
      "execution_count": 0,
      "outputs": []
    },
    {
      "cell_type": "code",
      "metadata": {
        "id": "X2YqsDz7iaPa",
        "colab_type": "code",
        "colab": {}
      },
      "source": [
        "def gray_scale(img, side=500):\n",
        "    #min_side = min(img.shape[0], img.shape[1])\n",
        "    #img = img[:min_side, :min_side]\n",
        "    img = cv2.resize(img, (side,side*2))\n",
        "    img = cv2.cvtColor(img, cv2.COLOR_BGR2GRAY)\n",
        "    return img / 255.0"
      ],
      "execution_count": 0,
      "outputs": []
    },
    {
      "cell_type": "code",
      "metadata": {
        "id": "Zh7Ngvjbivnb",
        "colab_type": "code",
        "colab": {}
      },
      "source": [
        "import matplotlib.pyplot as plt\n",
        "%matplotlib inline\n",
        "\n",
        "preview_index = 11\n",
        "plt.subplot(1,2,1)\n",
        "plt.imshow(train_images[preview_index])\n",
        "plt.subplot(1,2,2)\n",
        "plt.imshow(gray_scale(train_images[preview_index]), cmap=\"gray\")"
      ],
      "execution_count": 0,
      "outputs": []
    },
    {
      "cell_type": "code",
      "metadata": {
        "id": "HkzhZySri7VN",
        "colab_type": "code",
        "colab": {}
      },
      "source": [
        "for i in range(len(train_images)):\n",
        "  train_images[i] = gray_scale(train_images[i])"
      ],
      "execution_count": 0,
      "outputs": []
    },
    {
      "cell_type": "code",
      "metadata": {
        "id": "R-l-5EhzenxO",
        "colab_type": "code",
        "outputId": "331c1c4d-ed80-448b-9487-6a29275b2876",
        "colab": {
          "base_uri": "https://localhost:8080/",
          "height": 34
        }
      },
      "source": [
        "import numpy as np\n",
        "\n",
        "train_as_array = np.expand_dims(train_images, axis=-1)\n",
        "train_labels_as_array = np.array(train_labels)\n",
        "print(train_as_array.shape, train_labels_as_array.shape)"
      ],
      "execution_count": 0,
      "outputs": [
        {
          "output_type": "stream",
          "text": [
            "(20, 1000, 500, 1) (20,)\n"
          ],
          "name": "stdout"
        }
      ]
    },
    {
      "cell_type": "code",
      "metadata": {
        "id": "v1heXcnMjJWY",
        "colab_type": "code",
        "colab": {}
      },
      "source": [
        "import tensorflow as tf\n",
        "print(\"Tensorflow:\", tf.__version__)\n",
        "\n",
        "layers = [\n",
        "    tf.keras.layers.Conv2D(filters=16, kernel_size=(3,3), padding=\"same\", activation=tf.nn.relu, input_shape=train_as_array.shape[1:]),\n",
        "    tf.keras.layers.MaxPool2D(pool_size=(2,2), strides=(2,2)),\n",
        "    tf.keras.layers.Conv2D(filters=32, kernel_size=(3,3), padding=\"same\", activation=tf.nn.relu),\n",
        "    tf.keras.layers.MaxPool2D(pool_size=(2,2), strides=(2,2)),\n",
        "    tf.keras.layers.Conv2D(filters=64, kernel_size=(3,3), padding=\"same\", activation=tf.nn.relu),\n",
        "    tf.keras.layers.MaxPool2D(pool_size=(2,2), strides=(2,2)),\n",
        "    tf.keras.layers.Conv2D(filters=128, kernel_size=(3,3), padding=\"same\", activation=tf.nn.relu),\n",
        "    tf.keras.layers.MaxPool2D(pool_size=(2,2), strides=(2,2)),\n",
        "    tf.keras.layers.Conv2D(filters=256, kernel_size=(3,3), padding=\"same\", activation=tf.nn.relu),\n",
        "    tf.keras.layers.MaxPool2D(pool_size=(2,2), strides=(2,2)),\n",
        "    tf.keras.layers.Flatten(),\n",
        "    tf.keras.layers.Dense(units=512, activation=tf.nn.relu),\n",
        "    tf.keras.layers.Dense(units=256, activation=tf.nn.relu),\n",
        "    tf.keras.layers.Dense(units=2, activation=tf.nn.softmax)\n",
        "]\n",
        "\n",
        "model = tf.keras.Sequential(layers)\n",
        "model.compile(optimizer=tf.optimizers.Adam(),\n",
        "              loss=tf.losses.SparseCategoricalCrossentropy(),\n",
        "              metrics=[tf.metrics.SparseCategoricalAccuracy()])\n",
        "model.fit(train_as_array, train_labels_as_array, epochs=70, batch_size=50)\n",
        "model.save_weights(\"model.tf\")"
      ],
      "execution_count": 0,
      "outputs": []
    },
    {
      "cell_type": "code",
      "metadata": {
        "id": "j7L1Ci1mvboN",
        "colab_type": "code",
        "colab": {}
      },
      "source": [
        "from google.colab import files\n",
        "uploads = files.upload()"
      ],
      "execution_count": 0,
      "outputs": []
    },
    {
      "cell_type": "code",
      "metadata": {
        "id": "pFt1clyJrCL9",
        "colab_type": "code",
        "colab": {}
      },
      "source": [
        "uploads.keys()"
      ],
      "execution_count": 0,
      "outputs": []
    },
    {
      "cell_type": "code",
      "metadata": {
        "id": "oDjvwC4prFEr",
        "colab_type": "code",
        "colab": {}
      },
      "source": [
        "test_images = [gray_scale(load_image(file)) for file in uploads.keys()]\n",
        "eval_model = tf.keras.Sequential(layers)\n",
        "eval_model.load_weights(\"model.tf\")\n",
        "eval_predictions = eval_model.predict(np.expand_dims(test_images, axis=-1))\n",
        "\n",
        "cols = 4\n",
        "rows = np.ceil(len(test_images)/cols)\n",
        "fig = plt.gcf()\n",
        "fig.set_size_inches(cols * 4, rows * 4)\n",
        "for i in range(len(test_images)):\n",
        "    plt.subplot(rows, cols, i+1)\n",
        "    plt.imshow(test_images[i], cmap=\"gray\")\n",
        "    plt.title(\"Happy\" if np.argmax(eval_predictions[i])==1 else \"Sad\")\n",
        "    plt.axis('off')"
      ],
      "execution_count": 0,
      "outputs": []
    },
    {
      "cell_type": "code",
      "metadata": {
        "id": "XpEtF2dYrZ_x",
        "colab_type": "code",
        "colab": {}
      },
      "source": [
        ""
      ],
      "execution_count": 0,
      "outputs": []
    }
  ]
}